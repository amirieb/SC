{
 "cells": [
  {
   "cell_type": "markdown",
   "metadata": {},
   "source": [
    "## Historical Tweets\n",
    "\n",
    "- The goal of this tutorial is to show how to use the search-recent and full-archive search endpoints that allows users to access recent tweets with the search_recent endpoint and tweets dating all the way back to the beginning of twitter with the search_all_tweets endpoint. <br>\n",
    "- This tutorial is based on [FullArchiveEndpoint](https://developer.twitter.com/en/docs/tutorials/getting-historical-tweets-using-the-full-archive-search-endpoint) \n",
    "- Currently to get access to all historical tweets - full-archive - you will need to have a twitter academic/research developer account and be approved to the academic researcher product track. \n",
    "- You must apply for additional access - while creating the twitter developer account, you only get essential access. \n",
    "- More details on academic/research access can be found here [TwitterAccess](https://developer.twitter.com/en/portal/petition/academic/is-it-right-for-you)\n"
   ]
  },
  {
   "cell_type": "markdown",
   "metadata": {},
   "source": [
    "## Import Required Modules"
   ]
  },
  {
   "cell_type": "code",
   "execution_count": 1,
   "metadata": {},
   "outputs": [],
   "source": [
    "import requests\n",
    "import os\n",
    "import json\n",
    "import tweepy"
   ]
  },
  {
   "cell_type": "markdown",
   "metadata": {},
   "source": [
    "## Evironment Setup and Authentication\n",
    "\n",
    "- Set your twitter consumer_key, consumer_secret, access_token, and access_token_secret as environment variables. \n",
    "- For information on where to locate this information you can look at [TwitterEnvironment](https://developer.twitter.com/en/docs/apps/overview)\n",
    "- A secure way to use your credentials is by creating environment variables in your terminal. <br>\n",
    "```console\n",
    "export 'consumer_key'='xxxx'\n",
    "export 'consumer_secret'='xxxx'\n",
    "export 'access_token'='xxxx'\n",
    "export 'access_token_secret'='xxxx'\n",
    "```\n",
    "- After authenticating the twitter credentials, you will be able to access the twitter api interface."
   ]
  },
  {
   "cell_type": "markdown",
   "metadata": {},
   "source": [
    "## Tweepy Library\n",
    "\n",
    "- To access the twitter API conveniently we use the tweepy library.\n",
    "- For more details on this library check out [Tweepy](https://docs.tweepy.org/en/stable/)"
   ]
  },
  {
   "cell_type": "code",
   "execution_count": 2,
   "metadata": {},
   "outputs": [],
   "source": [
    "consumer_key = os.environ.get('consumer_key')\n",
    "consumer_secret = os.environ.get('consumer_secret')\n",
    "access_token = os.environ.get('access_token')\n",
    "access_token_secret = os.environ.get('access_token_secret')\n",
    "bearer_token = os.environ.get('BEARER_TOKEN')\n",
    "\n",
    "auth = tweepy.OAuthHandler(consumer_key, consumer_secret)\n",
    "auth.set_access_token(access_token, access_token_secret)\n",
    "api = tweepy.API(auth)\n",
    "\n",
    "client=tweepy.Client(bearer_token=bearer_token, consumer_key=consumer_key, consumer_secret=consumer_secret, access_token=access_token, access_token_secret=access_token_secret)"
   ]
  },
  {
   "cell_type": "markdown",
   "metadata": {},
   "source": [
    "## Search Recent Tweets\n",
    "\n",
    "- The search_recent_tweets api gives tweets from the past 7 days, you can alter the query based on what you are looking for. \n",
    "- The max_results parameter indicates the maximum number of tweets that are retrieved, this should be a number between 10 and 100."
   ]
  },
  {
   "cell_type": "code",
   "execution_count": 3,
   "metadata": {},
   "outputs": [],
   "source": [
    "client=tweepy.Client(bearer_token=bearer_token)\n",
    "query='from:Twitterdev'\n",
    "tweets = client.search_recent_tweets(query=query, max_results=15)"
   ]
  },
  {
   "cell_type": "code",
   "execution_count": 4,
   "metadata": {},
   "outputs": [
    {
     "name": "stdout",
     "output_type": "stream",
     "text": [
      "Join @andypiper and team this Wednesday for the last installment of our developer Spaces series on custom Tweet card formats.\n",
      "\n",
      "https://t.co/WqsF8hEBSs\n",
      "\n",
      "\n",
      "🔖 Bookmark this! \n",
      "\n",
      "Today we are launching new Bookmark endpoints, allowing you to build new ways for people to utilize and interact with their bookmarked Tweets - only available on the Twitter API v2.\n",
      "\n",
      "Not sure what to build? It’s all in the forum post 👀\n",
      "https://t.co/vYayoqRtJE\n",
      "\n",
      "\n",
      "Join @ashevat, @jessicagarson, @suhemparack and @alanbenlee Thursday 3/24 at 3:05pm PT for this month’s town hall conversation on the recent updates to the Twitter Developer Platform. 📆\n",
      "\n",
      "Space Url: https://t.co/SaJ93yOgpy\n",
      "\n",
      "\n",
      "📅 Join us on Thursday, March 31 | 2 pm PT to learn how to use our Downloader tool to get data for research without writing code! We will be live on https://t.co/GrtBOXh5Y1 https://t.co/u88622mYEo\n",
      "\n",
      "\n"
     ]
    }
   ],
   "source": [
    "for tweet in tweets.data:\n",
    "    print(tweet.text)\n",
    "    print('\\n')"
   ]
  },
  {
   "cell_type": "markdown",
   "metadata": {},
   "source": [
    "## Search All Tweets\n",
    "\n",
    "- To access all tweets from the beginning of twitter you need to have an account with research/academic access and be approved for academic researcher product track. \n",
    "- Once you do get access you can get all tweets from the beginning of twitter by using the search_all_tweets.\n",
    "- You can get a maximum of 500 tweets, if there are more than 500 tweets, next_token can be used from response and appended to the next query to get the next 500 tokens. This is available only with search_all_tweets endpoint.\n",
    "- If you do not have the right permission to access the search_all_tweets API, you will get a \"403 Forbidden\" error as shown below."
   ]
  },
  {
   "cell_type": "code",
   "execution_count": 6,
   "metadata": {},
   "outputs": [
    {
     "ename": "Forbidden",
     "evalue": "403 Forbidden",
     "output_type": "error",
     "traceback": [
      "\u001b[0;31m---------------------------------------------------------------------------\u001b[0m",
      "\u001b[0;31mForbidden\u001b[0m                                 Traceback (most recent call last)",
      "\u001b[0;32m<ipython-input-6-d6213b5da06f>\u001b[0m in \u001b[0;36m<module>\u001b[0;34m()\u001b[0m\n\u001b[0;32m----> 1\u001b[0;31m \u001b[0mtweets\u001b[0m \u001b[0;34m=\u001b[0m \u001b[0mclient\u001b[0m\u001b[0;34m.\u001b[0m\u001b[0msearch_all_tweets\u001b[0m\u001b[0;34m(\u001b[0m\u001b[0mquery\u001b[0m\u001b[0;34m=\u001b[0m\u001b[0mquery\u001b[0m\u001b[0;34m,\u001b[0m \u001b[0mmax_results\u001b[0m\u001b[0;34m=\u001b[0m\u001b[0;36m11\u001b[0m\u001b[0;34m)\u001b[0m\u001b[0;34m\u001b[0m\u001b[0m\n\u001b[0m",
      "\u001b[0;32m~/anaconda3/lib/python3.6/site-packages/tweepy/client.py\u001b[0m in \u001b[0;36msearch_all_tweets\u001b[0;34m(self, query, **params)\u001b[0m\n\u001b[1;32m    811\u001b[0m                 \u001b[0;34m\"since_id\"\u001b[0m\u001b[0;34m,\u001b[0m \u001b[0;34m\"sort_order\"\u001b[0m\u001b[0;34m,\u001b[0m \u001b[0;34m\"start_time\"\u001b[0m\u001b[0;34m,\u001b[0m \u001b[0;34m\"tweet.fields\"\u001b[0m\u001b[0;34m,\u001b[0m\u001b[0;34m\u001b[0m\u001b[0m\n\u001b[1;32m    812\u001b[0m                 \u001b[0;34m\"until_id\"\u001b[0m\u001b[0;34m,\u001b[0m \u001b[0;34m\"user.fields\"\u001b[0m\u001b[0;34m\u001b[0m\u001b[0m\n\u001b[0;32m--> 813\u001b[0;31m             ), data_type=Tweet\n\u001b[0m\u001b[1;32m    814\u001b[0m         )\n\u001b[1;32m    815\u001b[0m \u001b[0;34m\u001b[0m\u001b[0m\n",
      "\u001b[0;32m~/anaconda3/lib/python3.6/site-packages/tweepy/client.py\u001b[0m in \u001b[0;36m_make_request\u001b[0;34m(self, method, route, params, endpoint_parameters, json, data_type, user_auth)\u001b[0m\n\u001b[1;32m    117\u001b[0m \u001b[0;34m\u001b[0m\u001b[0m\n\u001b[1;32m    118\u001b[0m         response = self.request(method, route, params=request_params,\n\u001b[0;32m--> 119\u001b[0;31m                                 json=json, user_auth=user_auth)\n\u001b[0m\u001b[1;32m    120\u001b[0m \u001b[0;34m\u001b[0m\u001b[0m\n\u001b[1;32m    121\u001b[0m         \u001b[0;32mif\u001b[0m \u001b[0mself\u001b[0m\u001b[0;34m.\u001b[0m\u001b[0mreturn_type\u001b[0m \u001b[0;32mis\u001b[0m \u001b[0mrequests\u001b[0m\u001b[0;34m.\u001b[0m\u001b[0mResponse\u001b[0m\u001b[0;34m:\u001b[0m\u001b[0;34m\u001b[0m\u001b[0m\n",
      "\u001b[0;32m~/anaconda3/lib/python3.6/site-packages/tweepy/client.py\u001b[0m in \u001b[0;36mrequest\u001b[0;34m(self, method, route, params, json, user_auth)\u001b[0m\n\u001b[1;32m     90\u001b[0m                 \u001b[0;32mraise\u001b[0m \u001b[0mUnauthorized\u001b[0m\u001b[0;34m(\u001b[0m\u001b[0mresponse\u001b[0m\u001b[0;34m)\u001b[0m\u001b[0;34m\u001b[0m\u001b[0m\n\u001b[1;32m     91\u001b[0m             \u001b[0;32mif\u001b[0m \u001b[0mresponse\u001b[0m\u001b[0;34m.\u001b[0m\u001b[0mstatus_code\u001b[0m \u001b[0;34m==\u001b[0m \u001b[0;36m403\u001b[0m\u001b[0;34m:\u001b[0m\u001b[0;34m\u001b[0m\u001b[0m\n\u001b[0;32m---> 92\u001b[0;31m                 \u001b[0;32mraise\u001b[0m \u001b[0mForbidden\u001b[0m\u001b[0;34m(\u001b[0m\u001b[0mresponse\u001b[0m\u001b[0;34m)\u001b[0m\u001b[0;34m\u001b[0m\u001b[0m\n\u001b[0m\u001b[1;32m     93\u001b[0m             \u001b[0;31m# Handle 404?\u001b[0m\u001b[0;34m\u001b[0m\u001b[0;34m\u001b[0m\u001b[0m\n\u001b[1;32m     94\u001b[0m             \u001b[0;32mif\u001b[0m \u001b[0mresponse\u001b[0m\u001b[0;34m.\u001b[0m\u001b[0mstatus_code\u001b[0m \u001b[0;34m==\u001b[0m \u001b[0;36m429\u001b[0m\u001b[0;34m:\u001b[0m\u001b[0;34m\u001b[0m\u001b[0m\n",
      "\u001b[0;31mForbidden\u001b[0m: 403 Forbidden"
     ]
    }
   ],
   "source": [
    "tweets = client.search_all_tweets(query=query, max_results=11)"
   ]
  },
  {
   "cell_type": "markdown",
   "metadata": {},
   "source": [
    "## Search Within a Timeframe\n",
    "\n",
    "- You can get tweets within a particular timeframe by specifying the start time and end time of the tweets that need to be retrieved as shown below.\n",
    "- The date and time should be in the RFC3339 format as shown for start time and end point. While using the search_recent_tweets api you will need to restrict these dates to be within 7 days of when you search. \n",
    "- Details about the RFC3339 format can be found here: [RFC3339](https://datatracker.ietf.org/doc/html/rfc3339)\n",
    "- Max results should be a number between 10 and 100."
   ]
  },
  {
   "cell_type": "code",
   "execution_count": 8,
   "metadata": {},
   "outputs": [],
   "source": [
    "query='covid'\n",
    "\n",
    "start_time='2022-03-28T00:00:00Z'\n",
    "end_time='2022-03-29T00:00:00Z'\n",
    "tweets = client.search_recent_tweets(query=query, start_time=start_time, end_time=end_time, tweet_fields=['lang', 'created_at'], max_results=20)"
   ]
  },
  {
   "cell_type": "code",
   "execution_count": 9,
   "metadata": {},
   "outputs": [
    {
     "name": "stdout",
     "output_type": "stream",
     "text": [
      "RT @k_eagar: A 16 yo with only 18 days between COVID infections. We are hearing this more often. Previous infections offering virtually no…\n",
      "2022-03-28 23:59:59+00:00\n",
      "en\n",
      "\n",
      "\n",
      "RT @MartinKulldorff: Pro-lockdowners accused those favoring focused protection as denying Covid seriousness, being right-wing and/or just c…\n",
      "2022-03-28 23:59:59+00:00\n",
      "en\n",
      "\n",
      "\n",
      "RT @beliza_linda: @PSDBoficial @jdoriajr Obrigação do Estado cuidar da sua população. \n",
      "\n",
      "Agora, quando o PSDB vai REVOGAR o Dec 65021/20, qu…\n",
      "2022-03-28 23:59:59+00:00\n",
      "pt\n",
      "\n",
      "\n",
      "RT @tiotheo01: 28 Mar 2022: Confirmed new COVID-19 cases in Malaysia by vaccination status https://t.co/ZIzLQgJTG5\n",
      "2022-03-28 23:59:59+00:00\n",
      "en\n",
      "\n",
      "\n",
      "@M88303925 @BlueBus12 @HowDareYou2022 @Karl_Lauterbach Ich lege ihnen wirklich ans Herz sich darüber zu informieren. Es besteht auch eine hohe Überlappung (eine Studie spricht von 66% aus, hier allerdings nur 30 Probanden) von EBV-CFS und Long Covid.\n",
      "2022-03-28 23:59:59+00:00\n",
      "de\n",
      "\n",
      "\n",
      "RT @Matt_Tinney: A big shake-up for WA schools struggling to handle the spread of COVID. @sunriseon7 https://t.co/zGFDk9lpiK\n",
      "2022-03-28 23:59:58+00:00\n",
      "en\n",
      "\n",
      "\n",
      "I have covid again and the touchscreen on my phone has stopped working\n",
      "2022-03-28 23:59:58+00:00\n",
      "en\n",
      "\n",
      "\n",
      "RT @desaludpr: Nuestro Programa de Vacunación contesta tus preguntas sobre el COVID-19. Llama hoy y conoce el centro de vacunación más cerc…\n",
      "2022-03-28 23:59:58+00:00\n",
      "es\n",
      "\n",
      "\n",
      "RT @LongCovidHell: Herd immunity?! What a bloody joke… Covid isn’t finished with us yet, just because our government got bored of it.\n",
      "\n",
      "#cov…\n",
      "2022-03-28 23:59:57+00:00\n",
      "en\n",
      "\n",
      "\n",
      "RT @thevibesnews: PKR communications chief @fahmi_fadzil had dismissed speculation that former deputy prime minister Datuk Seri Dr Wan Aziz…\n",
      "2022-03-28 23:59:57+00:00\n",
      "en\n",
      "\n",
      "\n",
      "RT @FiercePharma: With their splashy sponsorship of Sunday's Academy Awards, @pfizer and @BioNTech_Group  imply their vaccine helped the #O…\n",
      "2022-03-28 23:59:57+00:00\n",
      "en\n",
      "\n",
      "\n",
      "RT @RevivalCare: Covid under spending source:\n",
      "https://t.co/4BfyKrcUwM\n",
      "\n",
      "PCR cost per test:\n",
      "https://t.co/7vPiPXWCyJ.\n",
      "2022-03-28 23:59:56+00:00\n",
      "en\n",
      "\n",
      "\n",
      "RT @Finanzas_Times: Presuntamente se había inoculado 5 dosis de la vacuna #COVID | #COVID19\n",
      "\n",
      "2 de #Janssen | Johnson &amp; Johnson.\n",
      "\n",
      "3 de #Pfiz…\n",
      "2022-03-28 23:59:56+00:00\n",
      "es\n",
      "\n",
      "\n",
      "RT @DiazCanelB: En cordial encuentro con director gral de Organización Mundial de la Propiedad Intelectual, Daren Tang, conversamos sobre l…\n",
      "2022-03-28 23:59:56+00:00\n",
      "es\n",
      "\n",
      "\n",
      "RT @1ascomP: \" ทหารอิ่มท้อง เกษตรกรมีรายได้ \"\n",
      "-พัน.สพ.กระสุน 21 บชร.1 จัดเจ้าหน้าที่สูทกรรมซื้อผลผลิตโดยตรงจากสวนเกษตรกร ในพื้นที่ อ.เกาะจั…\n",
      "2022-03-28 23:59:56+00:00\n",
      "th\n",
      "\n",
      "\n",
      "It is truly 1984. Pfizer tried to block access to its covid shot trial documents until 75 years in the future &amp; failed\n",
      "\n",
      "55,000 pages have been released including 8 pg of adverse events up to &amp; including death\n",
      "\n",
      "No mainstream media coverage. Google/social media suppressed\n",
      "\n",
      "Retweet! https://t.co/57vWWnKF9r\n",
      "2022-03-28 23:59:56+00:00\n",
      "en\n",
      "\n",
      "\n",
      "RT @TheAstanaTimes: The long-awaited concert of Dimash Kudaibergen at the Coca-Cola Arena in Dubai enthralled party-goers and fans around t…\n",
      "2022-03-28 23:59:56+00:00\n",
      "en\n",
      "\n",
      "\n",
      "RT @DiazCanelB: En cordial encuentro con director gral de Organización Mundial de la Propiedad Intelectual, Daren Tang, conversamos sobre l…\n",
      "2022-03-28 23:59:56+00:00\n",
      "es\n",
      "\n",
      "\n",
      "RT @MaximeBernier: They’re exploiting every crisis to justify censorship. After covid, war is now the reason, even though we’re not even at…\n",
      "2022-03-28 23:59:56+00:00\n",
      "en\n",
      "\n",
      "\n",
      "@ClaudiaOrtizSV Que no tenes covid? Aíslate\n",
      "2022-03-28 23:59:55+00:00\n",
      "pt\n",
      "\n",
      "\n"
     ]
    }
   ],
   "source": [
    "for tweet in tweets.data:\n",
    "    print(tweet.text)\n",
    "    print(tweet.created_at)\n",
    "    print(tweet.lang)\n",
    "    print('\\n')"
   ]
  },
  {
   "cell_type": "markdown",
   "metadata": {},
   "source": [
    "## Geo-location\n",
    "\n",
    "- You can now filter tweets which contain the query and which have a geo-location. \n",
    "- Geo-location is turned off by default.\n",
    "- There are not too many tweets with geo-location turned on."
   ]
  },
  {
   "cell_type": "code",
   "execution_count": 12,
   "metadata": {},
   "outputs": [],
   "source": [
    "query='spring'\n",
    "tweets = client.search_recent_tweets(query=query, tweet_fields=['context_annotations', 'created_at', 'geo'],\n",
    "                                  place_fields=['place_type', 'geo'], expansions='geo.place_id', max_results=15)"
   ]
  },
  {
   "cell_type": "code",
   "execution_count": 13,
   "metadata": {},
   "outputs": [
    {
     "name": "stdout",
     "output_type": "stream",
     "text": [
      "1509164451886292993\n",
      "RT @MrCJCalvert: I went for the @Elemis Warm Tonka Bean &amp; Vanilla Shower Milk today as it seems Winter has landed even tho we’re in #Spring…\n",
      "None\n",
      "1509164451831980037\n",
      "We're having actual spring weather here and it's delightful.\n",
      "\n",
      "I love rain. \n",
      "\n",
      "I would like to live somewhere with lots of thunderstorms in my future.\n",
      "None\n",
      "1509164451161083911\n",
      "RT @koeitecmogames: 【最大75%OFF】\n",
      "🌸Spring Sale開催🌸\n",
      "\n",
      "#進撃の巨人2 #ブルリフT #不思議DX　\n",
      "などの人気タイトル&amp;DLCが【最大75%OFF】\n",
      "\n",
      "さらに‼️\n",
      "各種ストアカードが当たるキャンペーンも開催中📢\n",
      "【応募方法】\n",
      "①@koe…\n",
      "None\n",
      "1509164450997481476\n",
      "RT @BTlBsXW1BLvSZEx: 凄いマイトップファン #mytopfollowers #Spring via https://t.co/BtWfO2quX3 自分を見つけたらリツイートしましょう @SUgpbcynk3 @Frenzy_Blackma @nekotaj…\n",
      "None\n",
      "1509164450938601480\n",
      "Thank you to Timothy Cox &amp; Co. Realtors for sponsoring at the Supporter level and helping us to put on this year's Kirkwood Spring Fling &amp; Tour of Homes!! \n",
      "\n",
      "Timothy Cox &amp; CO. Realtors - Buy or sell your Atlanta home with a team you’ll love—who will love y’all right back! https://t.co/MJjIdr9Tyb\n",
      "None\n",
      "1509164450112233476\n",
      "RT @gobIinarchive: manzuoxi for 10’am anno mundi spring 2022 lookbook https://t.co/cchWimEX6g\n",
      "None\n",
      "1509164449483042821\n",
      "RT @SocorroISD: Due to inclement weather, the #TeamSISD Spring Games in Honor of James P. Butler event is being postponed until tomorrow, M…\n",
      "None\n",
      "1509164448451559424\n",
      "RT @BBU_BLACKPINK: [WEVERSE] #JISOO Birthday message to all BLINKs who were born in MARCH\n",
      "\n",
      "“Hello BLINKS! This is Jisoo! My Blinks who were…\n",
      "None\n",
      "1509164446446669827\n",
      "RT @foxfeather: Rockin' that latest spring fashion from Paris https://t.co/I4gsQ3Bcs6\n",
      "None\n",
      "1509164446186446858\n",
      "RT @martinbaston: @AboutEG does anybody know when the covid spring booster jabs come to East Grinstead ? nearest Center for over 75s at the…\n",
      "None\n",
      "1509164445829894150\n",
      "RT @DeRova_: Why the fuck has it been cold I thought it was spring\n",
      "None\n",
      "1509164444840083456\n",
      "RT @Earth_Oscar: แฟชั่นโชว์ Christian Dior คอลเลคชั่น Haute Couture Spring 2007 สร้างสรรค์โดย จอห์น กัลลิอาโน นำเสนอความงามของโลกตะวันออกผ่…\n",
      "None\n",
      "1509164444248465409\n",
      "RT @VITAMINO_TH: 220330 [Weverse] 마이노\n",
      "\n",
      "โอ้โห...เกือบสิบปีแล้วนะเนี่ยที่ได้รับคำอวยพรวันเกิดจากอินซอมา\n",
      "กินไปเยอะเลยอิ่มจัง!\n",
      "ขอบคุณทุกๆคนนะค…\n",
      "None\n",
      "1509164442071752705\n",
      "If you haven't yet, please check out our spring issue @westchesterrev. It's blooming with all kinds of great writing! Enjoy! #poetry #WritingCommunity #litmags #literary \n",
      "https://t.co/FMBR5RrBQb\n",
      "None\n",
      "1509164441736454153\n",
      "RT @marimo_sabukou: 凄いマイトップファン #mytopfollowers #Spring via https://t.co/IxNmKfYsbY 自分を見つけたらリツイートしましょう https://t.co/elTtw8LWQe\n",
      "None\n"
     ]
    }
   ],
   "source": [
    "for tweet in tweets.data:\n",
    "    print(tweet.id)\n",
    "    print(tweet.text)\n",
    "    print(tweet.geo)"
   ]
  }
 ],
 "metadata": {
  "kernelspec": {
   "display_name": "Python 3 (ipykernel)",
   "language": "python",
   "name": "python3"
  },
  "language_info": {
   "codemirror_mode": {
    "name": "ipython",
    "version": 3
   },
   "file_extension": ".py",
   "mimetype": "text/x-python",
   "name": "python",
   "nbconvert_exporter": "python",
   "pygments_lexer": "ipython3",
   "version": "3.8.10"
  }
 },
 "nbformat": 4,
 "nbformat_minor": 2
}
