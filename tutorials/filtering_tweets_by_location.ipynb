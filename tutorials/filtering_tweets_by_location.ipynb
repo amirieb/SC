{
 "cells": [
  {
   "cell_type": "markdown",
   "metadata": {},
   "source": [
    "# Filtering Tweets By Location\n",
    "\n",
    "The goal of this tutorial is to show how to filter tweets based on their geographic location"
   ]
  },
  {
   "cell_type": "markdown",
   "metadata": {},
   "source": [
    "## Import Required Modules"
   ]
  },
  {
   "cell_type": "code",
   "execution_count": 1,
   "metadata": {},
   "outputs": [],
   "source": [
    "import os\n",
    "import json\n",
    "import tweepy"
   ]
  },
  {
   "cell_type": "markdown",
   "metadata": {},
   "source": [
    "## Environment Setup and Authentication\n",
    "\n",
    "- Set your twitter consumer_key, consumer_secret, access_token, and access_token_secret as environment variables. \n",
    "- For information on where to locate this information you can look at [TwitterEnvironment](https://developer.twitter.com/en/docs/apps/overview)\n",
    "- A secure way to use your credentials is by creating environment variables in your terminal. \n",
    "```console\n",
    "export 'consumer_key'='xxxx' \n",
    "export 'consumer_secret'='xxxx' \n",
    "export 'access_token'='xxxx' \n",
    "export 'access_token_secret'='xxxx'\n",
    "```\n",
    "- After authenticating the twitter credentials, you will be able to access the twitter api interface."
   ]
  },
  {
   "cell_type": "markdown",
   "metadata": {},
   "source": [
    "## Tweepy Library\n",
    "\n",
    "- To access the twitter API conveniently we use the tweepy library.\n",
    "- For more details on this library check out [Tweepy](https://docs.tweepy.org/en/stable/)"
   ]
  },
  {
   "cell_type": "code",
   "execution_count": 2,
   "metadata": {},
   "outputs": [],
   "source": [
    "consumer_key = os.environ.get('consumer_key')\n",
    "consumer_secret = os.environ.get('consumer_secret')\n",
    "access_token = os.environ.get('access_token')\n",
    "access_token_secret = os.environ.get('access_token_secret')\n",
    "\n",
    "auth = tweepy.OAuthHandler(consumer_key, consumer_secret)\n",
    "auth.set_access_token(access_token, access_token_secret)\n",
    "api = tweepy.API(auth)"
   ]
  },
  {
   "cell_type": "markdown",
   "metadata": {},
   "source": [
    "## Filter Tweets by Location\n",
    "\n",
    "- We will use the search_tweets API from tweepy to filter tweets based on a geographical location. \n",
    "- To do this we need to specify the latitude, longitude, and radius in the geocode parameter. \n",
    "- This returns tweets by users located within a given radius of the given latitude/longitude.\n",
    "- You can obtain the latitude and longitude from [GeoLocation](https://www.latlong.net/)\n",
    "- Not many profiles have the geo-location available in the tweet response."
   ]
  },
  {
   "cell_type": "code",
   "execution_count": 3,
   "metadata": {},
   "outputs": [],
   "source": [
    "query='batman'\n",
    "# geo location for Massachusetts\n",
    "geo='42.407211,-71.382439,25km'\n",
    "tweets = api.search_tweets(q=query, geocode=geo, count=40)"
   ]
  },
  {
   "cell_type": "code",
   "execution_count": 4,
   "metadata": {},
   "outputs": [
    {
     "name": "stdout",
     "output_type": "stream",
     "text": [
      "Emo Ass Something in the Way Batman and Woman of My Dreams Bi Icon Catwoman really did it for me\n",
      "location:\n",
      "Newton, MA\n",
      "None\n",
      "\n",
      "\n",
      "It’s #TurnUpTuesday !! Put on your favorite tunes and bang out some energy. Then bring that great energy into every… https://t.co/PDajQVkDjS\n",
      "location:\n",
      "Acton, MA\n",
      "None\n",
      "\n",
      "\n",
      "Nananananananana BATMAN - Drinking a PULP DADDY by @greatergoodbrew at @svilletheatre  — https://t.co/NcvMsFUvtF\n",
      "location:\n",
      "Somerville, MA\n",
      "{'type': 'Point', 'coordinates': [42.3967476, -71.1228943]}\n",
      "\n",
      "\n",
      "@MikeFromWoburn Are you saying Batman is not serious stuff?? 😜\n",
      "location:\n",
      "Winchester, MA\n",
      "None\n",
      "\n",
      "\n"
     ]
    }
   ],
   "source": [
    "for tweet in tweets:   \n",
    "    if tweet.place !=None:\n",
    "        print(tweet.text)\n",
    "        print('location:')\n",
    "        print(tweet.place.full_name)\n",
    "        print(tweet.geo)\n",
    "        print('\\n')"
   ]
  },
  {
   "cell_type": "code",
   "execution_count": 5,
   "metadata": {},
   "outputs": [],
   "source": [
    "query='winter'\n",
    "# geo location for Munich\n",
    "geo='48.136353,11.575004,25km'\n",
    "tweets = api.search_tweets(q=query, geocode=geo, count=40)"
   ]
  },
  {
   "cell_type": "code",
   "execution_count": 6,
   "metadata": {},
   "outputs": [
    {
     "name": "stdout",
     "output_type": "stream",
     "text": [
      "*** LLOREN, CHICOS, LLOREN ***\n",
      "Winter makes a comeback as temperatures drop dramatically in Germany https://t.co/DXCBiCUcqD\n",
      "location:\n",
      "Munich, Germany\n",
      "None\n",
      "\n",
      "\n"
     ]
    }
   ],
   "source": [
    "for tweet in tweets:   \n",
    "    if tweet.place !=None:\n",
    "        print(tweet.text)\n",
    "        print('location:')\n",
    "        print(tweet.place.full_name)\n",
    "        print(tweet.geo)\n",
    "        print('\\n')"
   ]
  }
 ],
 "metadata": {
  "kernelspec": {
   "display_name": "Python 3",
   "language": "python",
   "name": "python3"
  },
  "language_info": {
   "codemirror_mode": {
    "name": "ipython",
    "version": 3
   },
   "file_extension": ".py",
   "mimetype": "text/x-python",
   "name": "python",
   "nbconvert_exporter": "python",
   "pygments_lexer": "ipython3",
   "version": "3.6.5"
  }
 },
 "nbformat": 4,
 "nbformat_minor": 2
}
