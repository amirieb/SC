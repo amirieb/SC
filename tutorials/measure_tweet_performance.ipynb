{
 "cells": [
  {
   "cell_type": "markdown",
   "metadata": {},
   "source": [
    "# Measure Tweet Performance\n",
    "\n",
    "- The goal of this tutorial is to show how to get metrics pertaining to tweets. \n",
    "- These metrics - such as the number of retweets, likes, replies, etc - can help you measure the performance of tweets.\n",
    "- Knowledge about these metrics can be used to enhance engagement and understand more about your audience preferences. - This is based on the repository [TweetsWithBearerToken](https://github.com/twitterdev/Twitter-API-v2-sample-code/blob/main/Tweet-Lookup/get_tweets_with_bearer_token.py)\n",
    "- We will be using tweeets lookup API to get metrics pertaining to a tweet, more details can be found here [TweetsLookUp](https://developer.twitter.com/en/docs/twitter-api/tweets/lookup/api-reference/get-tweets) "
   ]
  },
  {
   "cell_type": "markdown",
   "metadata": {},
   "source": [
    "## Import Required Modules"
   ]
  },
  {
   "cell_type": "code",
   "execution_count": 5,
   "metadata": {},
   "outputs": [],
   "source": [
    "import requests\n",
    "import os\n",
    "import json"
   ]
  },
  {
   "cell_type": "markdown",
   "metadata": {},
   "source": [
    "## Evironment Setup and Authentication\n",
    "\n",
    "- You will need to authenticate your account before you start using twitter API, and this can be done using the bearer token.\n",
    "- The bearer token for a particular twitter app can be found on your twitter developer portal; for more details check out [BearerTokens](https://developer.twitter.com/en/docs/authentication/oauth-2-0/bearer-tokens)\n",
    "- A secure way to use your credentials is by creating environment variables in your terminal. \n",
    "```console\n",
    "export 'BEARER_TOKEN'='xxxx'\n",
    "```"
   ]
  },
  {
   "cell_type": "code",
   "execution_count": 6,
   "metadata": {},
   "outputs": [],
   "source": [
    "bearer_token = os.environ.get(\"BEARER_TOKEN\")\n",
    "\n",
    "def bearer_oauth(r):\n",
    "    \"\"\"\n",
    "    Method required by bearer token authentication.\n",
    "    \"\"\"\n",
    "\n",
    "    r.headers[\"Authorization\"] = f\"Bearer {bearer_token}\"\n",
    "    r.headers[\"User-Agent\"] = \"v2TweetLookupPython\"\n",
    "    return r"
   ]
  },
  {
   "cell_type": "markdown",
   "metadata": {},
   "source": [
    "## Specifying Tweet Fields and Connecting to Endpoint\n",
    "\n",
    "- create_url specifies the tweet fields you are interested in - these fields are associated with every tweet and can be changed based on your preference; \n",
    "  - some of the fields you can include are: attachments, author_id, context_annotations, conversation_id, created_at, entities, geo, id, in_reply_to_user_id, lang, non_public_metrics, organic_metrics, possibly_sensitive, promoted_metrics, public_metrics, referenced_tweets, source, text, and withheld. \n",
    "  - In this example we are interested in the public metrics associated with the tweets with specific tweet ids. \n",
    "- connect_to_endpoint issues a GET request to the url created in create_url and the response from the GET request is stored in response. \n",
    "- GET helps you get data from a particular url, for more details checkout [GETMethod](https://developer.mozilla.org/en-US/docs/Web/HTTP/Methods/GET)"
   ]
  },
  {
   "cell_type": "code",
   "execution_count": 7,
   "metadata": {},
   "outputs": [],
   "source": [
    "def create_url():\n",
    "    tweet_fields = \"tweet.fields=public_metrics\"\n",
    "    # Tweet fields are adjustable.\n",
    "    # Options include:\n",
    "    # attachments, author_id, context_annotations,\n",
    "    # conversation_id, created_at, entities, geo, id,\n",
    "    # in_reply_to_user_id, lang, non_public_metrics, organic_metrics,\n",
    "    # possibly_sensitive, promoted_metrics, public_metrics, referenced_tweets,\n",
    "    # source, text, and withheld\n",
    "    ids = \"ids=1278747501642657792,1255542774432063488\"\n",
    "    # You can adjust ids to include a single Tweets.\n",
    "    # Or you can add to up to 100 comma-separated IDs\n",
    "    url = \"https://api.twitter.com/2/tweets?{}&{}\".format(ids, tweet_fields)\n",
    "    return url\n",
    "\n",
    "def connect_to_endpoint(url):\n",
    "    response = requests.request(\"GET\", url, auth=bearer_oauth)\n",
    "    print(response.status_code)\n",
    "    if response.status_code != 200:\n",
    "        raise Exception(\n",
    "            \"Request returned an error: {} {}\".format(\n",
    "                response.status_code, response.text\n",
    "            )\n",
    "        )\n",
    "    return response.json()"
   ]
  },
  {
   "cell_type": "markdown",
   "metadata": {},
   "source": [
    "## Test Run"
   ]
  },
  {
   "cell_type": "code",
   "execution_count": 8,
   "metadata": {},
   "outputs": [
    {
     "name": "stdout",
     "output_type": "stream",
     "text": [
      "200\n",
      "{\n",
      "    \"data\": [\n",
      "        {\n",
      "            \"id\": \"1278747501642657792\",\n",
      "            \"public_metrics\": {\n",
      "                \"like_count\": 188,\n",
      "                \"quote_count\": 28,\n",
      "                \"reply_count\": 16,\n",
      "                \"retweet_count\": 71\n",
      "            },\n",
      "            \"text\": \"It's been a year since Twitter's Developer Labs launched.\\n\\nAs we build towards the next generation of the #TwitterAPI (coming VERY soon), see what we've learned and changed along the way. https://t.co/WvjuEWCa6G\"\n",
      "        },\n",
      "        {\n",
      "            \"id\": \"1255542774432063488\",\n",
      "            \"public_metrics\": {\n",
      "                \"like_count\": 723,\n",
      "                \"quote_count\": 118,\n",
      "                \"reply_count\": 289,\n",
      "                \"retweet_count\": 306\n",
      "            },\n",
      "            \"text\": \"During these unprecedented times, what\\u2019s happening on Twitter can help the world better understand &amp; respond to the pandemic. \\n\\nWe're launching a free COVID-19 stream endpoint so qualified devs &amp; researchers can study the public conversation in real-time. https://t.co/BPqMcQzhId\"\n",
      "        }\n",
      "    ]\n",
      "}\n"
     ]
    }
   ],
   "source": [
    "url = create_url()\n",
    "json_response = connect_to_endpoint(url)\n",
    "print(json.dumps(json_response, indent=4, sort_keys=True))"
   ]
  }
 ],
 "metadata": {
  "kernelspec": {
   "display_name": "Python 3",
   "language": "python",
   "name": "python3"
  },
  "language_info": {
   "codemirror_mode": {
    "name": "ipython",
    "version": 3
   },
   "file_extension": ".py",
   "mimetype": "text/x-python",
   "name": "python",
   "nbconvert_exporter": "python",
   "pygments_lexer": "ipython3",
   "version": "3.6.5"
  }
 },
 "nbformat": 4,
 "nbformat_minor": 2
}
