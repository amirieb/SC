{
 "cells": [
  {
   "cell_type": "markdown",
   "metadata": {},
   "source": [
    "# Sending Text Messages based on Tweets\n",
    "\n",
    "The goal of this tutorial is to introduce how to:\n",
    "- get tweets from specific twitter handles.\n",
    "- search tweets for relevant information.\n",
    "- send messages based on contents of the tweets. \n",
    "\n",
    "This tutorial is based on code from [NYCParking](https://developer.twitter.com/en/docs/tutorials/nyc-parking) and [ExtractingTweetsTweepy](https://fairyonice.github.io/extract-someones-tweet-using-tweepy.html)\n"
   ]
  },
  {
   "cell_type": "markdown",
   "metadata": {},
   "source": [
    "## NYC Parking Problem\n",
    "\n",
    "- In New York City cars need to be moved most of the days for road cleaning, snow removal, etc; the rules are relaxed on a few days. \n",
    "- This notebook helps optimize when to move your car so that you do not move it when rules are relaxed, this is done by  sending text messages to your phone based on the contents of tweets from @NYCASP handle. \n",
    "- The @NYCASP twitter handle periodically tweets if parking rules - to move your car - are enforced on a particular day; failure to move your car when rules are in effect can leave you with a hefty parking ticket. \n",
    "- On a few days parking rules are suspended, it is unnecessary to move your car then, we want to send messages on days when the parking rules are suspended so that we don't have to move car unnecessarily."
   ]
  },
  {
   "cell_type": "markdown",
   "metadata": {},
   "source": [
    "## Instructions\n",
    "\n",
    "- To be able to access tweets through twitter API, you will need to create a developer account - [TwitterDeveloperAccount](https://developer.twitter.com/en/docs/developer-portal/overview) \n",
    "- Creating a developer account grants you essential access. You will need to apply for Elevated or Academic/Research access to be able to run this ipython notebook; access to elevated or academic research may take a while to go through as there is a mandatory review process.\n",
    "- To be able to send text messages to your phone you will need a twilio account. You can get a free twilio account by following instructions here - [Twilio](https://www.twilio.com/docs/usage/tutorials/how-to-use-your-free-trial-account)"
   ]
  },
  {
   "cell_type": "markdown",
   "metadata": {},
   "source": [
    "## Download Required Packages"
   ]
  },
  {
   "cell_type": "code",
   "execution_count": 1,
   "metadata": {},
   "outputs": [
    {
     "name": "stdout",
     "output_type": "stream",
     "text": [
      "Requirement already satisfied: pandas in /Users/sherin/anaconda3/lib/python3.6/site-packages (0.23.3)\n",
      "Requirement already satisfied: python-dateutil>=2.5.0 in /Users/sherin/anaconda3/lib/python3.6/site-packages (from pandas) (2.7.3)\n",
      "Requirement already satisfied: pytz>=2011k in /Users/sherin/anaconda3/lib/python3.6/site-packages (from pandas) (2018.4)\n",
      "Requirement already satisfied: numpy>=1.9.0 in /Users/sherin/anaconda3/lib/python3.6/site-packages (from pandas) (1.18.1)\n",
      "Requirement already satisfied: six>=1.5 in /Users/sherin/anaconda3/lib/python3.6/site-packages (from python-dateutil>=2.5.0->pandas) (1.14.0)\n",
      "\u001b[33mWARNING: You are using pip version 19.3.1; however, version 21.3.1 is available.\n",
      "You should consider upgrading via the 'pip install --upgrade pip' command.\u001b[0m\n",
      "Requirement already satisfied: twilio in /Users/sherin/anaconda3/lib/python3.6/site-packages (7.6.0)\n",
      "Requirement already satisfied: PyJWT<3.0.0,>=2.0.0 in /Users/sherin/anaconda3/lib/python3.6/site-packages (from twilio) (2.3.0)\n",
      "Requirement already satisfied: requests>=2.0.0 in /Users/sherin/anaconda3/lib/python3.6/site-packages (from twilio) (2.27.1)\n",
      "Requirement already satisfied: pytz in /Users/sherin/anaconda3/lib/python3.6/site-packages (from twilio) (2018.4)\n",
      "Requirement already satisfied: idna<4,>=2.5; python_version >= \"3\" in /Users/sherin/anaconda3/lib/python3.6/site-packages (from requests>=2.0.0->twilio) (2.6)\n",
      "Requirement already satisfied: charset-normalizer~=2.0.0; python_version >= \"3\" in /Users/sherin/anaconda3/lib/python3.6/site-packages (from requests>=2.0.0->twilio) (2.0.12)\n",
      "Requirement already satisfied: certifi>=2017.4.17 in /Users/sherin/anaconda3/lib/python3.6/site-packages (from requests>=2.0.0->twilio) (2018.4.16)\n",
      "Requirement already satisfied: urllib3<1.27,>=1.21.1 in /Users/sherin/anaconda3/lib/python3.6/site-packages (from requests>=2.0.0->twilio) (1.22)\n",
      "\u001b[33mWARNING: You are using pip version 19.3.1; however, version 21.3.1 is available.\n",
      "You should consider upgrading via the 'pip install --upgrade pip' command.\u001b[0m\n",
      "Requirement already satisfied: searchtweets in /Users/sherin/anaconda3/lib/python3.6/site-packages (1.7.6)\n",
      "Requirement already satisfied: tweet-parser in /Users/sherin/anaconda3/lib/python3.6/site-packages (from searchtweets) (1.13.2)\n",
      "Requirement already satisfied: requests in /Users/sherin/anaconda3/lib/python3.6/site-packages (from searchtweets) (2.27.1)\n",
      "Requirement already satisfied: pyyaml in /Users/sherin/anaconda3/lib/python3.6/site-packages (from searchtweets) (3.12)\n",
      "Requirement already satisfied: idna<4,>=2.5; python_version >= \"3\" in /Users/sherin/anaconda3/lib/python3.6/site-packages (from requests->searchtweets) (2.6)\n",
      "Requirement already satisfied: charset-normalizer~=2.0.0; python_version >= \"3\" in /Users/sherin/anaconda3/lib/python3.6/site-packages (from requests->searchtweets) (2.0.12)\n",
      "Requirement already satisfied: urllib3<1.27,>=1.21.1 in /Users/sherin/anaconda3/lib/python3.6/site-packages (from requests->searchtweets) (1.22)\n",
      "Requirement already satisfied: certifi>=2017.4.17 in /Users/sherin/anaconda3/lib/python3.6/site-packages (from requests->searchtweets) (2018.4.16)\n",
      "\u001b[33mWARNING: You are using pip version 19.3.1; however, version 21.3.1 is available.\n",
      "You should consider upgrading via the 'pip install --upgrade pip' command.\u001b[0m\n"
     ]
    }
   ],
   "source": [
    "!pip install pandas\n",
    "!pip install twilio\n",
    "!pip install searchtweets"
   ]
  },
  {
   "cell_type": "markdown",
   "metadata": {},
   "source": [
    "## Environment Setup\n",
    "\n",
    "- The next step would be to set up environment variables for your twilio credentials. \n",
    "- Your twilio credentials will be available to you in your twilio account. \n",
    "- For cell phone number, enter the phone number on which you want to get the text messages with area code followed by the number.\n",
    "- A secure way to use your credentials is by creating environment variables in your terminal. \n",
    "```console\n",
    "export 'TWILIO_ACCOUNT_SID'='xxxxxxxxxxxxxxxxxxx'\n",
    "export 'TWILIO_AUTH_TOKEN'='xxxxxxxxxxxxxxxxxxxxxxx'\n",
    "export 'TWILIO_PHONE_NUMBER'='15555555555'\n",
    "export 'CELL_PHONE_NUMBER'='16666666666'\n",
    "```\n",
    "- Set your twitter consumer_key, consumer_secret,  access_token, and access_token_secret as environment variables. \n",
    "- For information on where to locate this information you can look at [TwitterEnvironmentVariables](https://developer.twitter.com/en/docs/apps/overview)\n",
    "```console\n",
    "export 'consumer_key'='xxxx'\n",
    "export 'consumer_secret'='xxxx'\n",
    "export 'access_token'='xxxx'\n",
    "export 'access_token_secret'='xxxx'\n",
    "```\n",
    "- After the authentication process, you will be able to access the twitter api interface."
   ]
  },
  {
   "cell_type": "markdown",
   "metadata": {},
   "source": [
    "## Tweepy Library\n",
    "\n",
    "- To access the twitter API conveniently we use the tweepy library.\n",
    "- For more details on this library check out [Tweepy](https://docs.tweepy.org/en/stable/)"
   ]
  },
  {
   "cell_type": "markdown",
   "metadata": {},
   "source": [
    "## Import Required Modules"
   ]
  },
  {
   "cell_type": "code",
   "execution_count": 2,
   "metadata": {},
   "outputs": [],
   "source": [
    "import os\n",
    "from twilio.rest import Client\n",
    "import datetime\n",
    "import pandas as pd\n",
    "import tweepy\n",
    "from searchtweets import ResultStream, gen_rule_payload, load_credentials"
   ]
  },
  {
   "cell_type": "markdown",
   "metadata": {},
   "source": [
    "## Getting Tweets From a Twitter Handle\n",
    "\n",
    "- We will be using the tweepy library to access the twitter API. The twitter environement variables set up earlier will be used for [outh](https://oauth.net/2/) Authorization.\n",
    "- user_id is the twitter handle of the user whose tweets you want to parse and take further action. \n",
    "- api.user_timeline gets the most recent 200 tweets from @NYCASP. Tweets contain the actual tweet and some metadata.\n",
    "- For our use case, we would need to know:\n",
    "    - when the tweet was generated: we want to act on the current day's tweet.\n",
    "    - search for strings in the full text: we want to know when the rules are suspended.\n"
   ]
  },
  {
   "cell_type": "code",
   "execution_count": 3,
   "metadata": {},
   "outputs": [
    {
     "name": "stdout",
     "output_type": "stream",
     "text": [
      "Status(_api=<tweepy.api.API object at 0x7ff5ee216898>, _json={'created_at': 'Tue Mar 29 20:01:14 +0000 2022', 'id': 1508897087764717574, 'id_str': '1508897087764717574', 'full_text': '#NYCASP rules will be in effect tomorrow, Wednesday, March 30.', 'truncated': False, 'display_text_range': [0, 62], 'entities': {'hashtags': [{'text': 'NYCASP', 'indices': [0, 7]}], 'symbols': [], 'user_mentions': [], 'urls': []}, 'source': '<a href=\"https://www.hootsuite.com\" rel=\"nofollow\">Hootsuite Inc.</a>', 'in_reply_to_status_id': None, 'in_reply_to_status_id_str': None, 'in_reply_to_user_id': None, 'in_reply_to_user_id_str': None, 'in_reply_to_screen_name': None, 'user': {'id': 102773464, 'id_str': '102773464', 'name': 'NYC Alt Side Parking', 'screen_name': 'NYCASP', 'location': 'New York City', 'description': 'ASP info twice daily & for emergency suspensions.\\n\\nNew residential rules: https://t.co/I10feSs8iC\\n\\nAccount automated, will not respond. Use Policy: https://t.co/gsR1VH3Jzp', 'url': 'https://t.co/JTVqOOd3kx', 'entities': {'url': {'urls': [{'url': 'https://t.co/JTVqOOd3kx', 'expanded_url': 'http://on.nyc.gov/nycasp', 'display_url': 'on.nyc.gov/nycasp', 'indices': [0, 23]}]}, 'description': {'urls': [{'url': 'https://t.co/I10feSs8iC', 'expanded_url': 'http://on.nyc.gov/ASPCalendar', 'display_url': 'on.nyc.gov/ASPCalendar', 'indices': [74, 97]}, {'url': 'https://t.co/gsR1VH3Jzp', 'expanded_url': 'http://on.nyc.gov/UP', 'display_url': 'on.nyc.gov/UP', 'indices': [148, 171]}]}}, 'protected': False, 'followers_count': 268048, 'friends_count': 4, 'listed_count': 1088, 'created_at': 'Thu Jan 07 19:52:56 +0000 2010', 'favourites_count': 0, 'utc_offset': None, 'time_zone': None, 'geo_enabled': False, 'verified': True, 'statuses_count': 7756, 'lang': None, 'contributors_enabled': False, 'is_translator': False, 'is_translation_enabled': False, 'profile_background_color': 'C0DEED', 'profile_background_image_url': 'http://abs.twimg.com/images/themes/theme1/bg.png', 'profile_background_image_url_https': 'https://abs.twimg.com/images/themes/theme1/bg.png', 'profile_background_tile': False, 'profile_image_url': 'http://pbs.twimg.com/profile_images/1102622116770394112/-VL87yOl_normal.png', 'profile_image_url_https': 'https://pbs.twimg.com/profile_images/1102622116770394112/-VL87yOl_normal.png', 'profile_banner_url': 'https://pbs.twimg.com/profile_banners/102773464/1481915901', 'profile_link_color': '1DA1F2', 'profile_sidebar_border_color': 'C0DEED', 'profile_sidebar_fill_color': 'DDEEF6', 'profile_text_color': '333333', 'profile_use_background_image': True, 'has_extended_profile': False, 'default_profile': True, 'default_profile_image': False, 'following': False, 'follow_request_sent': False, 'notifications': False, 'translator_type': 'none', 'withheld_in_countries': []}, 'geo': None, 'coordinates': None, 'place': None, 'contributors': None, 'is_quote_status': False, 'retweet_count': 5, 'favorite_count': 17, 'favorited': False, 'retweeted': False, 'lang': 'en'}, created_at=datetime.datetime(2022, 3, 29, 20, 1, 14, tzinfo=datetime.timezone.utc), id=1508897087764717574, id_str='1508897087764717574', full_text='#NYCASP rules will be in effect tomorrow, Wednesday, March 30.', truncated=False, display_text_range=[0, 62], entities={'hashtags': [{'text': 'NYCASP', 'indices': [0, 7]}], 'symbols': [], 'user_mentions': [], 'urls': []}, source='Hootsuite Inc.', source_url='https://www.hootsuite.com', in_reply_to_status_id=None, in_reply_to_status_id_str=None, in_reply_to_user_id=None, in_reply_to_user_id_str=None, in_reply_to_screen_name=None, author=User(_api=<tweepy.api.API object at 0x7ff5ee216898>, _json={'id': 102773464, 'id_str': '102773464', 'name': 'NYC Alt Side Parking', 'screen_name': 'NYCASP', 'location': 'New York City', 'description': 'ASP info twice daily & for emergency suspensions.\\n\\nNew residential rules: https://t.co/I10feSs8iC\\n\\nAccount automated, will not respond. Use Policy: https://t.co/gsR1VH3Jzp', 'url': 'https://t.co/JTVqOOd3kx', 'entities': {'url': {'urls': [{'url': 'https://t.co/JTVqOOd3kx', 'expanded_url': 'http://on.nyc.gov/nycasp', 'display_url': 'on.nyc.gov/nycasp', 'indices': [0, 23]}]}, 'description': {'urls': [{'url': 'https://t.co/I10feSs8iC', 'expanded_url': 'http://on.nyc.gov/ASPCalendar', 'display_url': 'on.nyc.gov/ASPCalendar', 'indices': [74, 97]}, {'url': 'https://t.co/gsR1VH3Jzp', 'expanded_url': 'http://on.nyc.gov/UP', 'display_url': 'on.nyc.gov/UP', 'indices': [148, 171]}]}}, 'protected': False, 'followers_count': 268048, 'friends_count': 4, 'listed_count': 1088, 'created_at': 'Thu Jan 07 19:52:56 +0000 2010', 'favourites_count': 0, 'utc_offset': None, 'time_zone': None, 'geo_enabled': False, 'verified': True, 'statuses_count': 7756, 'lang': None, 'contributors_enabled': False, 'is_translator': False, 'is_translation_enabled': False, 'profile_background_color': 'C0DEED', 'profile_background_image_url': 'http://abs.twimg.com/images/themes/theme1/bg.png', 'profile_background_image_url_https': 'https://abs.twimg.com/images/themes/theme1/bg.png', 'profile_background_tile': False, 'profile_image_url': 'http://pbs.twimg.com/profile_images/1102622116770394112/-VL87yOl_normal.png', 'profile_image_url_https': 'https://pbs.twimg.com/profile_images/1102622116770394112/-VL87yOl_normal.png', 'profile_banner_url': 'https://pbs.twimg.com/profile_banners/102773464/1481915901', 'profile_link_color': '1DA1F2', 'profile_sidebar_border_color': 'C0DEED', 'profile_sidebar_fill_color': 'DDEEF6', 'profile_text_color': '333333', 'profile_use_background_image': True, 'has_extended_profile': False, 'default_profile': True, 'default_profile_image': False, 'following': False, 'follow_request_sent': False, 'notifications': False, 'translator_type': 'none', 'withheld_in_countries': []}, id=102773464, id_str='102773464', name='NYC Alt Side Parking', screen_name='NYCASP', location='New York City', description='ASP info twice daily & for emergency suspensions.\\n\\nNew residential rules: https://t.co/I10feSs8iC\\n\\nAccount automated, will not respond. Use Policy: https://t.co/gsR1VH3Jzp', url='https://t.co/JTVqOOd3kx', entities={'url': {'urls': [{'url': 'https://t.co/JTVqOOd3kx', 'expanded_url': 'http://on.nyc.gov/nycasp', 'display_url': 'on.nyc.gov/nycasp', 'indices': [0, 23]}]}, 'description': {'urls': [{'url': 'https://t.co/I10feSs8iC', 'expanded_url': 'http://on.nyc.gov/ASPCalendar', 'display_url': 'on.nyc.gov/ASPCalendar', 'indices': [74, 97]}, {'url': 'https://t.co/gsR1VH3Jzp', 'expanded_url': 'http://on.nyc.gov/UP', 'display_url': 'on.nyc.gov/UP', 'indices': [148, 171]}]}}, protected=False, followers_count=268048, friends_count=4, listed_count=1088, created_at=datetime.datetime(2010, 1, 7, 19, 52, 56, tzinfo=datetime.timezone.utc), favourites_count=0, utc_offset=None, time_zone=None, geo_enabled=False, verified=True, statuses_count=7756, lang=None, contributors_enabled=False, is_translator=False, is_translation_enabled=False, profile_background_color='C0DEED', profile_background_image_url='http://abs.twimg.com/images/themes/theme1/bg.png', profile_background_image_url_https='https://abs.twimg.com/images/themes/theme1/bg.png', profile_background_tile=False, profile_image_url='http://pbs.twimg.com/profile_images/1102622116770394112/-VL87yOl_normal.png', profile_image_url_https='https://pbs.twimg.com/profile_images/1102622116770394112/-VL87yOl_normal.png', profile_banner_url='https://pbs.twimg.com/profile_banners/102773464/1481915901', profile_link_color='1DA1F2', profile_sidebar_border_color='C0DEED', profile_sidebar_fill_color='DDEEF6', profile_text_color='333333', profile_use_background_image=True, has_extended_profile=False, default_profile=True, default_profile_image=False, following=False, follow_request_sent=False, notifications=False, translator_type='none', withheld_in_countries=[]), user=User(_api=<tweepy.api.API object at 0x7ff5ee216898>, _json={'id': 102773464, 'id_str': '102773464', 'name': 'NYC Alt Side Parking', 'screen_name': 'NYCASP', 'location': 'New York City', 'description': 'ASP info twice daily & for emergency suspensions.\\n\\nNew residential rules: https://t.co/I10feSs8iC\\n\\nAccount automated, will not respond. Use Policy: https://t.co/gsR1VH3Jzp', 'url': 'https://t.co/JTVqOOd3kx', 'entities': {'url': {'urls': [{'url': 'https://t.co/JTVqOOd3kx', 'expanded_url': 'http://on.nyc.gov/nycasp', 'display_url': 'on.nyc.gov/nycasp', 'indices': [0, 23]}]}, 'description': {'urls': [{'url': 'https://t.co/I10feSs8iC', 'expanded_url': 'http://on.nyc.gov/ASPCalendar', 'display_url': 'on.nyc.gov/ASPCalendar', 'indices': [74, 97]}, {'url': 'https://t.co/gsR1VH3Jzp', 'expanded_url': 'http://on.nyc.gov/UP', 'display_url': 'on.nyc.gov/UP', 'indices': [148, 171]}]}}, 'protected': False, 'followers_count': 268048, 'friends_count': 4, 'listed_count': 1088, 'created_at': 'Thu Jan 07 19:52:56 +0000 2010', 'favourites_count': 0, 'utc_offset': None, 'time_zone': None, 'geo_enabled': False, 'verified': True, 'statuses_count': 7756, 'lang': None, 'contributors_enabled': False, 'is_translator': False, 'is_translation_enabled': False, 'profile_background_color': 'C0DEED', 'profile_background_image_url': 'http://abs.twimg.com/images/themes/theme1/bg.png', 'profile_background_image_url_https': 'https://abs.twimg.com/images/themes/theme1/bg.png', 'profile_background_tile': False, 'profile_image_url': 'http://pbs.twimg.com/profile_images/1102622116770394112/-VL87yOl_normal.png', 'profile_image_url_https': 'https://pbs.twimg.com/profile_images/1102622116770394112/-VL87yOl_normal.png', 'profile_banner_url': 'https://pbs.twimg.com/profile_banners/102773464/1481915901', 'profile_link_color': '1DA1F2', 'profile_sidebar_border_color': 'C0DEED', 'profile_sidebar_fill_color': 'DDEEF6', 'profile_text_color': '333333', 'profile_use_background_image': True, 'has_extended_profile': False, 'default_profile': True, 'default_profile_image': False, 'following': False, 'follow_request_sent': False, 'notifications': False, 'translator_type': 'none', 'withheld_in_countries': []}, id=102773464, id_str='102773464', name='NYC Alt Side Parking', screen_name='NYCASP', location='New York City', description='ASP info twice daily & for emergency suspensions.\\n\\nNew residential rules: https://t.co/I10feSs8iC\\n\\nAccount automated, will not respond. Use Policy: https://t.co/gsR1VH3Jzp', url='https://t.co/JTVqOOd3kx', entities={'url': {'urls': [{'url': 'https://t.co/JTVqOOd3kx', 'expanded_url': 'http://on.nyc.gov/nycasp', 'display_url': 'on.nyc.gov/nycasp', 'indices': [0, 23]}]}, 'description': {'urls': [{'url': 'https://t.co/I10feSs8iC', 'expanded_url': 'http://on.nyc.gov/ASPCalendar', 'display_url': 'on.nyc.gov/ASPCalendar', 'indices': [74, 97]}, {'url': 'https://t.co/gsR1VH3Jzp', 'expanded_url': 'http://on.nyc.gov/UP', 'display_url': 'on.nyc.gov/UP', 'indices': [148, 171]}]}}, protected=False, followers_count=268048, friends_count=4, listed_count=1088, created_at=datetime.datetime(2010, 1, 7, 19, 52, 56, tzinfo=datetime.timezone.utc), favourites_count=0, utc_offset=None, time_zone=None, geo_enabled=False, verified=True, statuses_count=7756, lang=None, contributors_enabled=False, is_translator=False, is_translation_enabled=False, profile_background_color='C0DEED', profile_background_image_url='http://abs.twimg.com/images/themes/theme1/bg.png', profile_background_image_url_https='https://abs.twimg.com/images/themes/theme1/bg.png', profile_background_tile=False, profile_image_url='http://pbs.twimg.com/profile_images/1102622116770394112/-VL87yOl_normal.png', profile_image_url_https='https://pbs.twimg.com/profile_images/1102622116770394112/-VL87yOl_normal.png', profile_banner_url='https://pbs.twimg.com/profile_banners/102773464/1481915901', profile_link_color='1DA1F2', profile_sidebar_border_color='C0DEED', profile_sidebar_fill_color='DDEEF6', profile_text_color='333333', profile_use_background_image=True, has_extended_profile=False, default_profile=True, default_profile_image=False, following=False, follow_request_sent=False, notifications=False, translator_type='none', withheld_in_countries=[]), geo=None, coordinates=None, place=None, contributors=None, is_quote_status=False, retweet_count=5, favorite_count=17, favorited=False, retweeted=False, lang='en')\n",
      "\n",
      "\n",
      "printing out the latest 2 tweets:\n",
      "\n",
      "\n",
      "ID: 1509130874884923403\n",
      "2022-03-30 11:30:13+00:00\n",
      "#NYCASP rules are in effect today, March 30\n",
      "\n",
      "\n",
      "ID: 1508897087764717574\n",
      "2022-03-29 20:01:14+00:00\n",
      "#NYCASP rules will be in effect tomorrow, Wednesday, March 30.\n",
      "\n",
      "\n"
     ]
    }
   ],
   "source": [
    "user_id = \"NYCASP\"\n",
    "\n",
    "consumer_key = os.environ.get('consumer_key')\n",
    "consumer_secret = os.environ.get('consumer_secret')\n",
    "access_token = os.environ.get('access_token')\n",
    "access_token_secret = os.environ.get('access_token_secret')\n",
    "\n",
    "auth = tweepy.OAuthHandler(consumer_key, consumer_secret)\n",
    "auth.set_access_token(access_token, access_token_secret)\n",
    "api = tweepy.API(auth)\n",
    "\n",
    "tweets = api.user_timeline(screen_name=user_id, \n",
    "                           # 200 is the maximum allowed count\n",
    "                           count=200,\n",
    "                           include_rts = False,\n",
    "                           # Necessary to keep full_text \n",
    "                           # otherwise only the first 140 words are extracted\n",
    "                           tweet_mode = 'extended'\n",
    "                           )\n",
    "\n",
    "print(tweets[1])\n",
    "print(\"\\n\")\n",
    "print(\"printing out the latest 2 tweets:\")\n",
    "print(\"\\n\")\n",
    "for info in tweets[:2]:\n",
    "     print(\"ID: {}\".format(info.id))\n",
    "     print(info.created_at)\n",
    "     print(info.full_text)\n",
    "     print(\"\\n\")"
   ]
  },
  {
   "cell_type": "markdown",
   "metadata": {},
   "source": [
    "## Pandas Dataframe \n",
    "\n",
    "- Pandas is a library that allows easy and convenient manipulation of data. \n",
    "- For this problem it is much easier to search through the text if the raw tweets and the date created are converted into a Pandas dataframe. \n",
    "- For more information on Pandas checkout [Pandas](https://pandas.pydata.org/)\n"
   ]
  },
  {
   "cell_type": "code",
   "execution_count": 4,
   "metadata": {},
   "outputs": [
    {
     "data": {
      "text/html": [
       "<div>\n",
       "<style scoped>\n",
       "    .dataframe tbody tr th:only-of-type {\n",
       "        vertical-align: middle;\n",
       "    }\n",
       "\n",
       "    .dataframe tbody tr th {\n",
       "        vertical-align: top;\n",
       "    }\n",
       "\n",
       "    .dataframe thead th {\n",
       "        text-align: right;\n",
       "    }\n",
       "</style>\n",
       "<table border=\"1\" class=\"dataframe\">\n",
       "  <thead>\n",
       "    <tr style=\"text-align: right;\">\n",
       "      <th></th>\n",
       "      <th>tweet</th>\n",
       "      <th>date</th>\n",
       "    </tr>\n",
       "  </thead>\n",
       "  <tbody>\n",
       "    <tr>\n",
       "      <th>0</th>\n",
       "      <td>#NYCASP rules are in effect today, March 30</td>\n",
       "      <td>2022-03-30 11:30:13+00:00</td>\n",
       "    </tr>\n",
       "    <tr>\n",
       "      <th>1</th>\n",
       "      <td>#NYCASP rules will be in effect tomorrow, Wedn...</td>\n",
       "      <td>2022-03-29 20:01:14+00:00</td>\n",
       "    </tr>\n",
       "    <tr>\n",
       "      <th>2</th>\n",
       "      <td>#NYCASP rules are in effect today, March 29</td>\n",
       "      <td>2022-03-29 11:30:12+00:00</td>\n",
       "    </tr>\n",
       "    <tr>\n",
       "      <th>3</th>\n",
       "      <td>#NYCASP rules will be in effect tomorrow, Tues...</td>\n",
       "      <td>2022-03-28 20:01:13+00:00</td>\n",
       "    </tr>\n",
       "    <tr>\n",
       "      <th>4</th>\n",
       "      <td>#NYCASP rules are in effect today, March 28.</td>\n",
       "      <td>2022-03-28 11:30:13+00:00</td>\n",
       "    </tr>\n",
       "  </tbody>\n",
       "</table>\n",
       "</div>"
      ],
      "text/plain": [
       "                                               tweet                      date\n",
       "0        #NYCASP rules are in effect today, March 30 2022-03-30 11:30:13+00:00\n",
       "1  #NYCASP rules will be in effect tomorrow, Wedn... 2022-03-29 20:01:14+00:00\n",
       "2        #NYCASP rules are in effect today, March 29 2022-03-29 11:30:12+00:00\n",
       "3  #NYCASP rules will be in effect tomorrow, Tues... 2022-03-28 20:01:13+00:00\n",
       "4       #NYCASP rules are in effect today, March 28. 2022-03-28 11:30:13+00:00"
      ]
     },
     "execution_count": 4,
     "metadata": {},
     "output_type": "execute_result"
    }
   ],
   "source": [
    "tweet_text = []\n",
    "tweet_date = []\n",
    "for info in tweets:\n",
    "    tweet_text.append(info.full_text)\n",
    "    tweet_date.append(info.created_at)\n",
    "    \n",
    "df = pd.DataFrame({'tweet':tweet_text, 'date':tweet_date})\n",
    "\n",
    "df.head()"
   ]
  },
  {
   "cell_type": "markdown",
   "metadata": {},
   "source": [
    "## Twilio Client and Send Message API\n",
    "\n",
    "- twilio_connect initializes the twilio client for accessing API to send text message.\n",
    "- send_message sends the message in the variable body - which is customizable - to the cell phone number specified by the environment variable CELL_PHONE_NUMBER"
   ]
  },
  {
   "cell_type": "code",
   "execution_count": 5,
   "metadata": {},
   "outputs": [],
   "source": [
    "def twilio_connect():\n",
    "    account_sid = os.environ.get('TWILIO_ACCOUNT_SID')\n",
    "    auth_token = os.environ.get('TWILIO_AUTH_TOKEN')\n",
    "    client = Client(account_sid, auth_token)\n",
    "    return client\n",
    "\n",
    "def send_message(client):\n",
    "    return client.messages.create(from_=os.environ.get('TWILIO_PHONE_NUMBER'),\n",
    "    to=os.environ.get('CELL_PHONE_NUMBER'),\n",
    "    body=\"You don't have to move your car tonight. Enjoy your night!\")\n",
    "\n",
    "client = twilio_connect()"
   ]
  },
  {
   "cell_type": "markdown",
   "metadata": {},
   "source": [
    "## Send Text Through Twilio\n",
    "\n",
    "- Send a text message to your cell phone to remind that you need not move your car if \"suspended\" or \"tomorrow\" is in the body of the latest tweet. \n",
    "- If you do not get a text message then you need to move your car.\n",
    "- Note that this code can be easily changed to send a text message if you need to move the car instead."
   ]
  },
  {
   "cell_type": "code",
   "execution_count": 6,
   "metadata": {},
   "outputs": [
    {
     "name": "stdout",
     "output_type": "stream",
     "text": [
      "not suspended, no text sent\n"
     ]
    }
   ],
   "source": [
    "if 'suspended' in df['tweet'].values[0]:\n",
    "    if 'tomorrow' in df['tweet'].values[0]:\n",
    "        send_message(client=client)\n",
    "        print('text sent')\n",
    "    else:\n",
    "        print('suspended but not tomorrow, no text sent')\n",
    "else:\n",
    "    print('not suspended, no text sent')"
   ]
  }
 ],
 "metadata": {
  "kernelspec": {
   "display_name": "Python 3",
   "language": "python",
   "name": "python3"
  },
  "language_info": {
   "codemirror_mode": {
    "name": "ipython",
    "version": 3
   },
   "file_extension": ".py",
   "mimetype": "text/x-python",
   "name": "python",
   "nbconvert_exporter": "python",
   "pygments_lexer": "ipython3",
   "version": "3.6.5"
  }
 },
 "nbformat": 4,
 "nbformat_minor": 2
}
